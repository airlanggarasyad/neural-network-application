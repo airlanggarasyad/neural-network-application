{
 "cells": [
  {
   "cell_type": "markdown",
   "id": "608c127d",
   "metadata": {},
   "source": [
    "# Tugas 3 Kecerdasan Buatan\n",
    "<p>\n",
    "    Airlangga Rasyad Fidiyanto<br>\n",
    "    19/443562/TK/48758\n",
    "</p>"
   ]
  },
  {
   "cell_type": "markdown",
   "id": "1ca8cef3",
   "metadata": {},
   "source": [
    "## 1. Load Library"
   ]
  },
  {
   "cell_type": "code",
   "execution_count": 1,
   "id": "8880b0bf",
   "metadata": {},
   "outputs": [],
   "source": [
    "import numpy as np\n",
    "import pandas as pd\n",
    "import seaborn as sns\n",
    "import tensorflow as tf\n",
    "import matplotlib.pyplot as plt\n",
    "\n",
    "from sklearn.metrics import classification_report\n",
    "from sklearn.model_selection import train_test_split\n",
    "\n",
    "from tensorflow.keras.preprocessing.text import Tokenizer\n",
    "from tensorflow.keras.preprocessing.sequence import pad_sequences\n",
    "\n",
    "# Disable TensorFlow's warning\n",
    "import os\n",
    "os.environ['TF_CPP_MIN_LOG_LEVEL'] = '2' \n",
    "\n",
    "%matplotlib inline\n",
    "%config InlineBackend.figure_format = 'retina'"
   ]
  },
  {
   "cell_type": "markdown",
   "id": "68197dde",
   "metadata": {},
   "source": [
    "## 2. Membaca dan Membersihkan Dataset\n",
    "Terdapat tiga buah label pada dataset ini, yaitu\n",
    "<ul>\n",
    "    <li><code>0</code> untuk teks yang bersifat normal</li>\n",
    "    <li><code>1</code> untuk teks yang bersifat penipuan atau _fraud_</li>\n",
    "    <li><code>2</code> untuk teks yang bersifat spam</li>\n",
    "</ul>"
   ]
  },
  {
   "cell_type": "markdown",
   "id": "569cad22",
   "metadata": {},
   "source": [
    "### 2.1 Read CSV File"
   ]
  },
  {
   "cell_type": "code",
   "execution_count": 2,
   "id": "dd1c35df",
   "metadata": {},
   "outputs": [
    {
     "data": {
      "text/html": [
       "<div>\n",
       "<style scoped>\n",
       "    .dataframe tbody tr th:only-of-type {\n",
       "        vertical-align: middle;\n",
       "    }\n",
       "\n",
       "    .dataframe tbody tr th {\n",
       "        vertical-align: top;\n",
       "    }\n",
       "\n",
       "    .dataframe thead th {\n",
       "        text-align: right;\n",
       "    }\n",
       "</style>\n",
       "<table border=\"1\" class=\"dataframe\">\n",
       "  <thead>\n",
       "    <tr style=\"text-align: right;\">\n",
       "      <th></th>\n",
       "      <th>Teks</th>\n",
       "      <th>label</th>\n",
       "    </tr>\n",
       "  </thead>\n",
       "  <tbody>\n",
       "    <tr>\n",
       "      <th>0</th>\n",
       "      <td>[PROMO] Beli paket Flash mulai 1GB di MY TELKO...</td>\n",
       "      <td>2</td>\n",
       "    </tr>\n",
       "    <tr>\n",
       "      <th>1</th>\n",
       "      <td>2.5 GB/30 hari hanya Rp 35 Ribu Spesial buat A...</td>\n",
       "      <td>2</td>\n",
       "    </tr>\n",
       "    <tr>\n",
       "      <th>2</th>\n",
       "      <td>2016-07-08 11:47:11.Plg Yth, sisa kuota Flash ...</td>\n",
       "      <td>2</td>\n",
       "    </tr>\n",
       "    <tr>\n",
       "      <th>3</th>\n",
       "      <td>2016-08-07 11:29:47.Plg Yth, sisa kuota Flash ...</td>\n",
       "      <td>2</td>\n",
       "    </tr>\n",
       "    <tr>\n",
       "      <th>4</th>\n",
       "      <td>4.5GB/30 hari hanya Rp 55 Ribu Spesial buat an...</td>\n",
       "      <td>2</td>\n",
       "    </tr>\n",
       "  </tbody>\n",
       "</table>\n",
       "</div>"
      ],
      "text/plain": [
       "                                                Teks  label\n",
       "0  [PROMO] Beli paket Flash mulai 1GB di MY TELKO...      2\n",
       "1  2.5 GB/30 hari hanya Rp 35 Ribu Spesial buat A...      2\n",
       "2  2016-07-08 11:47:11.Plg Yth, sisa kuota Flash ...      2\n",
       "3  2016-08-07 11:29:47.Plg Yth, sisa kuota Flash ...      2\n",
       "4  4.5GB/30 hari hanya Rp 55 Ribu Spesial buat an...      2"
      ]
     },
     "execution_count": 2,
     "metadata": {},
     "output_type": "execute_result"
    }
   ],
   "source": [
    "df = pd.read_csv('./dataset/dataset_sms_indonesia.csv')\n",
    "df.head()"
   ]
  },
  {
   "cell_type": "markdown",
   "id": "17f1a2fe",
   "metadata": {},
   "source": [
    "### 2.2 Data Cleansing dan _Train Test Split_\n",
    "<p>Karena label <code>2</code> dan <code>1</code> memiliki makna yang sama, maka kedua <code>label</code> tersebut dapat disatukan sebagai spam atau penipuan</p>"
   ]
  },
  {
   "cell_type": "code",
   "execution_count": 3,
   "id": "fd487f21",
   "metadata": {},
   "outputs": [
    {
     "data": {
      "text/plain": [
       "1    574\n",
       "0    569\n",
       "Name: label, dtype: int64"
      ]
     },
     "execution_count": 3,
     "metadata": {},
     "output_type": "execute_result"
    }
   ],
   "source": [
    "df['label'] = df['label'].replace([2], 1)\n",
    "df.label.value_counts()"
   ]
  },
  {
   "cell_type": "code",
   "execution_count": 4,
   "id": "0f923f9c",
   "metadata": {},
   "outputs": [],
   "source": [
    "train_X, test_X, train_y, test_y = train_test_split(df.Teks, \n",
    "                                                    df.label, \n",
    "                                                    test_size=0.33,\n",
    "                                                   )"
   ]
  },
  {
   "cell_type": "markdown",
   "id": "4bea304e",
   "metadata": {},
   "source": [
    "# 3. Membangun Model"
   ]
  },
  {
   "cell_type": "markdown",
   "id": "cd7d0bfb",
   "metadata": {},
   "source": [
    "### 3.1 Tokenizing dan Padding"
   ]
  },
  {
   "cell_type": "code",
   "execution_count": 5,
   "id": "82ccbfdf",
   "metadata": {},
   "outputs": [
    {
     "name": "stdout",
     "output_type": "stream",
     "text": [
      "Tokenized: \n",
      "[721, 12, 1484, 1485, 13, 1486]\n"
     ]
    }
   ],
   "source": [
    "tokenizer = Tokenizer(num_words=5000)\n",
    "tokenizer.fit_on_texts(train_X)\n",
    "\n",
    "train_X_emb = tokenizer.texts_to_sequences(train_X)\n",
    "test_X_emb = tokenizer.texts_to_sequences(test_X)\n",
    "\n",
    "vocab_size = len(tokenizer.word_index) + 1\n",
    "\n",
    "print(f\"Tokenized: \\n{train_X_emb[1]}\")"
   ]
  },
  {
   "cell_type": "code",
   "execution_count": 6,
   "id": "4e4404f9",
   "metadata": {},
   "outputs": [
    {
     "name": "stdout",
     "output_type": "stream",
     "text": [
      "[ 721   12 1484 1485   13 1486    0    0    0    0    0    0    0    0\n",
      "    0    0    0    0    0    0    0    0    0    0    0    0    0    0\n",
      "    0    0    0    0    0    0    0    0    0    0    0    0    0    0\n",
      "    0    0    0    0    0    0    0    0    0    0    0    0    0    0\n",
      "    0    0    0    0    0    0    0    0    0    0    0    0    0    0\n",
      "    0    0    0    0    0    0    0    0    0    0    0    0    0    0\n",
      "    0    0    0    0    0    0    0    0    0    0    0    0    0    0\n",
      "    0    0]\n"
     ]
    }
   ],
   "source": [
    "maxlen = 100\n",
    "\n",
    "train_X_padded = pad_sequences(train_X_emb, padding='post', maxlen=maxlen)\n",
    "test_X_padded = pad_sequences(test_X_emb, padding='post', maxlen=maxlen)\n",
    "\n",
    "print(train_X_padded[1, :])"
   ]
  },
  {
   "cell_type": "markdown",
   "id": "22a54abc",
   "metadata": {},
   "source": [
    "### 3.2 Model"
   ]
  },
  {
   "cell_type": "code",
   "execution_count": 7,
   "id": "ad5f77a5",
   "metadata": {},
   "outputs": [
    {
     "name": "stdout",
     "output_type": "stream",
     "text": [
      "Metal device set to: Apple M1 Pro\n",
      "Model: \"sequential\"\n",
      "_________________________________________________________________\n",
      " Layer (type)                Output Shape              Param #   \n",
      "=================================================================\n",
      " embedding (Embedding)       (None, None, 50)          191550    \n",
      "                                                                 \n",
      " global_max_pooling1d (Globa  (None, 50)               0         \n",
      " lMaxPooling1D)                                                  \n",
      "                                                                 \n",
      " dense (Dense)               (None, 32)                1632      \n",
      "                                                                 \n",
      " dense_1 (Dense)             (None, 1)                 33        \n",
      "                                                                 \n",
      "=================================================================\n",
      "Total params: 193,215\n",
      "Trainable params: 193,215\n",
      "Non-trainable params: 0\n",
      "_________________________________________________________________\n"
     ]
    }
   ],
   "source": [
    "embedding_dim = 50\n",
    "\n",
    "model = tf.keras.Sequential()\n",
    "\n",
    "model.add(tf.keras.layers.Embedding(vocab_size, embedding_dim))\n",
    "model.add(tf.keras.layers.GlobalMaxPool1D())\n",
    "model.add(tf.keras.layers.Dense(32, activation=tf.nn.relu))\n",
    "model.add(tf.keras.layers.Dense(1, activation=tf.nn.sigmoid))\n",
    "model.compile(optimizer='adam',\n",
    "              loss='binary_crossentropy',\n",
    "              metrics=['acc'])\n",
    "\n",
    "model.summary()"
   ]
  },
  {
   "cell_type": "code",
   "execution_count": 8,
   "id": "a4134036",
   "metadata": {},
   "outputs": [
    {
     "name": "stdout",
     "output_type": "stream",
     "text": [
      "Epoch 1/15\n",
      "48/48 [==============================] - 2s 28ms/step - loss: 0.6809 - acc: 0.7725 - val_loss: 0.6574 - val_acc: 0.9365\n",
      "Epoch 2/15\n",
      "48/48 [==============================] - 1s 18ms/step - loss: 0.6009 - acc: 0.9778 - val_loss: 0.5359 - val_acc: 0.9524\n",
      "Epoch 3/15\n",
      "48/48 [==============================] - 1s 16ms/step - loss: 0.3855 - acc: 0.9791 - val_loss: 0.3114 - val_acc: 0.9497\n",
      "Epoch 4/15\n",
      "48/48 [==============================] - 1s 17ms/step - loss: 0.1600 - acc: 0.9843 - val_loss: 0.1818 - val_acc: 0.9524\n",
      "Epoch 5/15\n",
      "48/48 [==============================] - 1s 14ms/step - loss: 0.0669 - acc: 0.9908 - val_loss: 0.1423 - val_acc: 0.9524\n",
      "Epoch 6/15\n",
      "48/48 [==============================] - 1s 16ms/step - loss: 0.0338 - acc: 0.9974 - val_loss: 0.1275 - val_acc: 0.9524\n",
      "Epoch 7/15\n",
      "48/48 [==============================] - 1s 17ms/step - loss: 0.0190 - acc: 1.0000 - val_loss: 0.1195 - val_acc: 0.9524\n",
      "Epoch 8/15\n",
      "48/48 [==============================] - 1s 14ms/step - loss: 0.0118 - acc: 1.0000 - val_loss: 0.1168 - val_acc: 0.9524\n",
      "Epoch 9/15\n",
      "48/48 [==============================] - 1s 14ms/step - loss: 0.0079 - acc: 1.0000 - val_loss: 0.1147 - val_acc: 0.9471\n",
      "Epoch 10/15\n",
      "48/48 [==============================] - 1s 13ms/step - loss: 0.0056 - acc: 1.0000 - val_loss: 0.1140 - val_acc: 0.9471\n",
      "Epoch 11/15\n",
      "48/48 [==============================] - 1s 12ms/step - loss: 0.0042 - acc: 1.0000 - val_loss: 0.1137 - val_acc: 0.9444\n",
      "Epoch 12/15\n",
      "48/48 [==============================] - 1s 13ms/step - loss: 0.0033 - acc: 1.0000 - val_loss: 0.1137 - val_acc: 0.9444\n",
      "Epoch 13/15\n",
      "48/48 [==============================] - 1s 16ms/step - loss: 0.0026 - acc: 1.0000 - val_loss: 0.1147 - val_acc: 0.9444\n",
      "Epoch 14/15\n",
      "48/48 [==============================] - 1s 15ms/step - loss: 0.0021 - acc: 1.0000 - val_loss: 0.1162 - val_acc: 0.9444\n",
      "Epoch 15/15\n",
      "48/48 [==============================] - 1s 14ms/step - loss: 0.0017 - acc: 1.0000 - val_loss: 0.1161 - val_acc: 0.9444\n"
     ]
    }
   ],
   "source": [
    "history = model.fit(\n",
    "    train_X_padded, train_y,\n",
    "    epochs=15,\n",
    "    validation_data=(test_X_padded, test_y),\n",
    "    batch_size=16\n",
    ")"
   ]
  },
  {
   "cell_type": "code",
   "execution_count": 9,
   "id": "15b64358",
   "metadata": {},
   "outputs": [
    {
     "data": {
      "image/png": "[encoded data removed]",
      "text/plain": [
       "<Figure size 800x500 with 1 Axes>"
      ]
     },
     "metadata": {
      "image/png": {
       "height": 450,
       "width": 671
      }
     },
     "output_type": "display_data"
    }
   ],
   "source": [
    "def plot_history(history):\n",
    "    accuracy = history.history['acc']\n",
    "    val_accuracy = history.history['val_acc']\n",
    "    \n",
    "    loss = history.history['loss']\n",
    "    val_loss = history.history['val_loss']\n",
    "    \n",
    "    x = range(1, len(accuracy) + 1)\n",
    "\n",
    "    plt.figure(figsize=(8, 5))\n",
    "    plt.plot(x, loss, 'b', label='Training loss')\n",
    "    plt.plot(x, val_loss, 'r', label='Validation loss')\n",
    "    plt.title('Training and validation loss')\n",
    "    plt.legend()\n",
    "\n",
    "plot_history(history)"
   ]
  },
  {
   "cell_type": "code",
   "execution_count": 10,
   "id": "70500158",
   "metadata": {},
   "outputs": [],
   "source": [
    "def predict_text(text_to_predict, debug=True):\n",
    "    prediction = []\n",
    "    \n",
    "    tokenized_text_to_predict = tokenizer.texts_to_sequences(text_to_predict)\n",
    "    padded_text_to_predict = pad_sequences(tokenized_text_to_predict, padding='post', maxlen=maxlen)\n",
    "    \n",
    "    model_result = model.predict(padded_text_to_predict)\n",
    "    \n",
    "    for mr in model_result:\n",
    "        if mr > 0.5:\n",
    "            prediction.append(1)\n",
    "            if debug: print(\"Spam\")\n",
    "        else:\n",
    "            prediction.append(0)\n",
    "            if debug: print(\"Normal\")\n",
    "            \n",
    "    return prediction"
   ]
  },
  {
   "cell_type": "markdown",
   "id": "4e2caa2a",
   "metadata": {},
   "source": [
    "## 4. Model Report"
   ]
  },
  {
   "cell_type": "code",
   "execution_count": 11,
   "id": "cfe7e81d",
   "metadata": {},
   "outputs": [
    {
     "name": "stdout",
     "output_type": "stream",
     "text": [
      "12/12 [==============================] - 0s 4ms/step\n",
      "              precision    recall  f1-score   support\n",
      "\n",
      "           0       0.92      0.96      0.94       173\n",
      "           1       0.96      0.93      0.95       205\n",
      "\n",
      "    accuracy                           0.94       378\n",
      "   macro avg       0.94      0.95      0.94       378\n",
      "weighted avg       0.95      0.94      0.94       378\n",
      "\n"
     ]
    }
   ],
   "source": [
    "print(classification_report(predict_text(test_X, debug=False), test_y))"
   ]
  },
  {
   "cell_type": "markdown",
   "id": "c9ffc40c",
   "metadata": {},
   "source": [
    "## 5. Create Prediction"
   ]
  },
  {
   "cell_type": "code",
   "execution_count": 12,
   "id": "d03e3016",
   "metadata": {},
   "outputs": [
    {
     "name": "stdout",
     "output_type": "stream",
     "text": [
      "1/1 [==============================] - 0s 50ms/step\n",
      "Spam\n"
     ]
    },
    {
     "data": {
      "text/plain": [
       "[1]"
      ]
     },
     "execution_count": 12,
     "metadata": {},
     "output_type": "execute_result"
    }
   ],
   "source": [
    "to_predict = [\n",
    "    '''\n",
    "    Hallo Bebeb TIFFANY,Pengen Dapatin KAWASAKI KLX 250 * & *IPHONE 14 PROMAX Yang Dibagikan Setiap Hari? 😍😍\n",
    "    DI AGEN RESMI PIALA DUNIA 2022 MBC303 LAGI BAGI BAGI KAWASAKI KLX 250 * & *IPHONE 14 PROMAX DISINI : SPINMBCHOKI.ORG\n",
    "    Caranya Gampang Banget Lho Kesayangan TIFFANY !!!\n",
    "\n",
    "    Buat Yang Pengen Langsung Kesini Aja Deh Yah Kakak Sayang\n",
    "\n",
    "    magic.ly/kaorusadikun\n",
    "    WA Info *KAWASAKI KLX 250 & IPHONE 14 PROMAX : wa.me/6281905011286\n",
    "    LINK DAPET KAWASAKI KLX 250 & IPHONE 14 PROMAX GESS : mbcgacor.com\n",
    "    '''\n",
    "]\n",
    "\n",
    "predict_text(to_predict)"
   ]
  },
  {
   "cell_type": "code",
   "execution_count": 13,
   "id": "f8625556",
   "metadata": {},
   "outputs": [
    {
     "name": "stdout",
     "output_type": "stream",
     "text": [
      "1/1 [==============================] - 0s 12ms/step\n",
      "Normal\n"
     ]
    },
    {
     "data": {
      "text/plain": [
       "[0]"
      ]
     },
     "execution_count": 13,
     "metadata": {},
     "output_type": "execute_result"
    }
   ],
   "source": [
    "to_predict = [\n",
    "    '''\n",
    "    Sy tunggu di ruangan saya besok untuk rapat degan kementerian.\n",
    "    '''\n",
    "]\n",
    "\n",
    "predict_text(to_predict)"
   ]
  }
 ],
 "metadata": {
  "kernelspec": {
   "display_name": "Python 3 (ipykernel)",
   "language": "python",
   "name": "python3"
  },
  "language_info": {
   "codemirror_mode": {
    "name": "ipython",
    "version": 3
   },
   "file_extension": ".py",
   "mimetype": "text/x-python",
   "name": "python",
   "nbconvert_exporter": "python",
   "pygments_lexer": "ipython3",
   "version": "3.10.8"
  }
 },
 "nbformat": 4,
 "nbformat_minor": 5
}
